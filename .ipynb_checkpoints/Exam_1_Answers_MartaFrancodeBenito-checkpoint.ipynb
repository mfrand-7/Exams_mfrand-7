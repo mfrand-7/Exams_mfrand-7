{
 "cells": [
  {
   "cell_type": "markdown",
   "metadata": {},
   "source": [
    "### Exam 1 - 07/09/2020 -- Marta Franco de Benito - mfrand-7"
   ]
  },
  {
   "cell_type": "markdown",
   "metadata": {},
   "source": [
    "# Problem 1 \n",
    "* Copy the Locus_Germplasm_Phenotype_20130122.txt file into your copy of the Exams Git\n",
    "* Create a new Jupyter Notebook in your Exams folder called \"Exam_1_Answers\" using the 'bash' kernel \n",
    "* Do the rest of this exam inside of that the \"Exam_1_Answers\" Notebook"
   ]
  },
  {
   "cell_type": "code",
   "execution_count": null,
   "metadata": {},
   "outputs": [],
   "source": [
    "git clone https://github.com/mfrand-7/Exams_mfrand-7.git #command used to clone the new repository\n",
    " jupiter notebook #open the jupyter notebook and create this notebook\n",
    " \n",
    "cp Locus_Germplasm_Phenotype_20130122.txt ~/Course/Exams_mfrand-7/\n"
   ]
  },
  {
   "cell_type": "markdown",
   "metadata": {},
   "source": [
    "Firstly, I have created a new repository called Exams_mfrand-7, then I have cloned the repository in my desktop. Once the repository was cloned, I created this jupyter notebook and copied the Locus_Germplasm_Phenotype_20130122.txt file within this same repository."
   ]
  },
  {
   "cell_type": "markdown",
   "metadata": {},
   "source": [
    "# Problem 2\n",
    "Create a directory listing command that shows:\n",
    "\n",
    "* the ownership of the file\n",
    "* it's file-size, in Megabytes (i.e. human readable)\n",
    "\n",
    "then:\n",
    "\n",
    "* in words (in a Markdown box), describe the _permissions_ on that file (read/write/execute) for users, groups, and \"anyone\"\n"
   ]
  },
  {
   "cell_type": "code",
   "execution_count": null,
   "metadata": {
    "scrolled": true
   },
   "outputs": [],
   "source": [
    "ls -lh # -l ((+list-style), this is the option that allows us to see the ownership (osboxes)).\n",
    "        # -h (+human-readable-size, this is te option that lets us see the size of each file in MB)."
   ]
  },
  {
   "cell_type": "markdown",
   "metadata": {},
   "source": [
    "The permissions have 10 fields, the first field show us if it is a file or a directory (in this case there are only files). After that, we can see three groups of letters (rw- rw- and r-- in this case, but it could be for example rwx too). The first group of letters corresponds to the owner/user, the second to the group and the last one to \"anyone\" (the rest of users).\n",
    "\n",
    "In this case the owner can read and write (or edit) the file, the goup can read and write the file too and \"anyone\" only can read it.\n",
    "\n",
    "If, for example, there were an script inside this directory and someone had the permission to read, write and execute it, we would see rwx when we executed this command."
   ]
  },
  {
   "cell_type": "markdown",
   "metadata": {},
   "source": [
    "# Problem 3\n",
    "* Create a command that outputs only the \"header\" line of Locus_Germplasm_Phenotype_20130122.txt"
   ]
  },
  {
   "cell_type": "code",
   "execution_count": null,
   "metadata": {},
   "outputs": [],
   "source": [
    "head -1 Locus_Germplasm_Phenotype_20130122.txt # -1 show only the first line of the file "
   ]
  },
  {
   "cell_type": "markdown",
   "metadata": {},
   "source": [
    "\"head\" is the commad that displays the first lines of a file. With the -1 option, I've specified that it only has to show me the first line of the file."
   ]
  },
  {
   "cell_type": "markdown",
   "metadata": {},
   "source": [
    "# Problem 4\n",
    "* Create a command that outputs the total number of lines in Locus_Germplasm_Phenotype_20130122.txt\n"
   ]
  },
  {
   "cell_type": "code",
   "execution_count": null,
   "metadata": {},
   "outputs": [],
   "source": [
    "wc -l Locus_Germplasm_Phenotype_20130122.txt # word count command, -l means lines"
   ]
  },
  {
   "cell_type": "markdown",
   "metadata": {},
   "source": [
    "Using the -l option, It displays the nomber of lines of the specified file."
   ]
  },
  {
   "cell_type": "markdown",
   "metadata": {},
   "source": [
    "# Problem 5\n",
    "* Create a command that writes ONLY the data lines (i.e. excludes the header!) to a new file called \"Data_Only.csv\"\n",
    "* prove that your output file has the expected number of lines"
   ]
  },
  {
   "cell_type": "code",
   "execution_count": null,
   "metadata": {},
   "outputs": [],
   "source": [
    "tail -7215 Locus_Germplasm_Phenotype_20130122.txt > Data_Only.csv # > is used to write down the output of tail command in Data_Only.csv file\n",
    "wc -l Data_Only.csv #Control command, It has to show one line less than the one executed in the previous exercise"
   ]
  },
  {
   "cell_type": "markdown",
   "metadata": {},
   "source": [
    "\"tail\" is the commad that displays the last lines of a file. With the -7215 option, I've specified that it only has to show me the 7215 last lines of the file (all lines except the header. Then, I've  directed the output from this command to Data_Only.csv file with \">\" command. (It could be also with >> command, but if I execute it again, it would add the same information at the end of the same file and I'm not interested on it)\n",
    "\n",
    "The wc -l command has been used to verify that the previous one has worked correctly. It has to show one line less than the one executed in the previous exercise."
   ]
  },
  {
   "cell_type": "markdown",
   "metadata": {},
   "source": [
    "# Problem 6\n",
    "* Create a command that shows all of the lines that have a phenotype including the word \"root\""
   ]
  },
  {
   "cell_type": "code",
   "execution_count": null,
   "metadata": {},
   "outputs": [],
   "source": [
    "grep -E -in '\\sroots?\\s' Locus_Germplasm_Phenotype_20130122.txt # -E (extended regular expressions, like ?), -i (\"insensitive to case\") -n (\"line number\")"
   ]
  },
  {
   "cell_type": "markdown",
   "metadata": {},
   "source": [
    "In this problem I have execute this command in order to identify the lines (-n) that have a phenotype which includes the word root (or roots, that's the reason of \"?\") independently if it is written in uppercase or lowercase (i). \\s indicates that before and after the word there is a space."
   ]
  },
  {
   "cell_type": "markdown",
   "metadata": {},
   "source": [
    "# Problem 7\n",
    "\n",
    "* Create a command that writes the AGI Locus Code for every line that has a phenotype including the word \"root\" to a file called: **Root-associated-Loci.txt**"
   ]
  },
  {
   "cell_type": "code",
   "execution_count": null,
   "metadata": {},
   "outputs": [],
   "source": [
    "grep -in '\\sroot\\s?' Locus_Germplasm_Phenotype_20130122.txt | grep -E -io '^AT[0-5]G[0-9]{5}\\s' Locus_Germplasm_Phenotype_20130122.txt | tee Root-associated-Loci.txt #query lines with root word within, from this lines query the AGI Locus codes and write them into the indicated file\n",
    "\n",
    "cat Root-associated-Loci.txt # Control commands, to make sure it is all ok\n",
    "wc -l Root-associated-Loci.txt\n"
   ]
  },
  {
   "cell_type": "markdown",
   "metadata": {},
   "source": [
    "In this problem I have use a pipeline in order to relate all phenotypes that have the word root (command in previous problem) with their AGI Locus code and then I've directed the output from the second part of the pipeline to Root-associated-Loci.txt file using \"tee\" command. This command is similar to \">\"\n",
    "\n",
    "To query the AGI Locus Code I've use a regular expression as I have done in the previuos problem. In this case, as I known that the structure of this codes is ATxGxxxx0, I have ask to query a word placed in the begin of the lines (^) which contains A, followed by a number (0-5 as Arabidopsis has 5 chromosomes), followed by a G, followed by 5 numbers and a space. I have use the option -io to make the command insensitive to case (-i) and in order to write only the query (-o) as I just want to write the AGI Locus Codes and not the entire lines."
   ]
  },
  {
   "cell_type": "markdown",
   "metadata": {},
   "source": [
    "## Problem 8\n",
    "\n",
    "* Create a command that writes the PubMed ID for every line that has a phenotype including the word \"root\" to a file called: **Root-associated-Publications.txt**"
   ]
  },
  {
   "cell_type": "code",
   "execution_count": null,
   "metadata": {},
   "outputs": [],
   "source": [
    "grep -in '\\sroot\\s?' Locus_Germplasm_Phenotype_20130122.txt | grep -E -io '\\s[0-9]{8}' Locus_Germplasm_Phenotype_20130122.txt | tee Root-associated-Publications.txt #query lines with root word within, from this lines query their Pubmed IDs and write them into the indicated file\n",
    "\n",
    "cat Root-associated-Publications.txt #Control commands\n",
    "wc -l Root-associated-Publications.txt"
   ]
  },
  {
   "cell_type": "markdown",
   "metadata": {},
   "source": [
    "In this problem I have use a new pipeline in order to relate all phenotypes that have the word root (command in previous problem) with their PubMed ID and then I've directed the output from the second part of the pipeline to Root-associated-Loci.txt file using \"tee\" command as previously. \n",
    "\n",
    "To query the PubMed ID I've use a regular expression too. In this case, I have ask to query a sequence of 8 numbers ([0-9]{8}) (because Pubmed IDs has 8 characters), preceded by a space (\\s). As in the previous case, I have use the option -io to make the command insensitive to case (-i) and in order to write only the Pubmed IDs in the file (-o)."
   ]
  },
  {
   "cell_type": "markdown",
   "metadata": {},
   "source": [
    "## Problem 9\n",
    "\n",
    "* _**Control experiment**_:  You would hypothesize that genes associated with roots **should be found on all chromosomes.**  Find a way (one or more commands) to test this hypothesis.  In this dataset, is the hypothesis true? "
   ]
  },
  {
   "cell_type": "code",
   "execution_count": null,
   "metadata": {},
   "outputs": [],
   "source": [
    "echo \"Genes associated with roots in chromosome 1\"\n",
    "grep -ina '\\sroot\\s?' Locus_Germplasm_Phenotype_20130122.txt | grep -E -ioa '^AT[1]G[0-9]{5}\\s' Locus_Germplasm_Phenotype_20130122.txt| wc -l #query lines with root word within, from this lines query the ones that are related to genes situated in chromosome 1 (in this case) and show how many genes are found for each chromosome\n",
    "echo \"Genes associated with roots in chromosome 2\"\n",
    "grep -ina '\\sroot\\s?' Locus_Germplasm_Phenotype_20130122.txt | grep -E -ioa '^AT[2]G[0-9]{5}\\s' Locus_Germplasm_Phenotype_20130122.txt| wc -l\n",
    "echo \"Genes associated with roots in chromosome 3\"\n",
    "grep -ina '\\sroot\\s?' Locus_Germplasm_Phenotype_20130122.txt | grep -E -ioa '^AT[3]G[0-9]{5}\\s' Locus_Germplasm_Phenotype_20130122.txt| wc -l\n",
    "echo \"Genes associated with roots in chromosome 4\"\n",
    "grep -ina '\\sroot\\s?' Locus_Germplasm_Phenotype_20130122.txt | grep -E -ioa '^AT[4]G[0-9]{5}\\s' Locus_Germplasm_Phenotype_20130122.txt| wc -l\n",
    "echo \"Genes associated with roots in chromosome 5\"\n",
    "grep -ina '\\sroot\\s?' Locus_Germplasm_Phenotype_20130122.txt | grep -E -ioa '^AT[5]G[0-9]{5}\\s' Locus_Germplasm_Phenotype_20130122.txt| wc -l"
   ]
  },
  {
   "cell_type": "markdown",
   "metadata": {},
   "source": [
    "In this problem I have used 5 commands, one for each Arabidopsis thaliana's chormosome.\n",
    "\n",
    "Firstly, I have query lines with root word within (same command as Problem 6), from this lines I have queried the ones that are related to genes situated in each chromosome, for this I have changed in each case the number situated between AT and G in the codes (ATxTxxxx0). Finally, I have show how many genes are found for each chromosome by counting the lines obtained for each pipeline.\n",
    "\n",
    "As you can see, according to my output there are root-related genes in all chromosomes."
   ]
  },
  {
   "cell_type": "markdown",
   "metadata": {},
   "source": [
    "## Problem 10\n",
    "\n",
    "* If your control experiment shows genes on every chromosome, then you can skip this question!  (you answered Problem 9 correctly!)\n",
    "\n",
    "*  If your control experiment shows genes only on one or two chromosomes, then you have to explain why... what could the problem be?  (I told you specifically to be careful about this problem!)"
   ]
  },
  {
   "cell_type": "code",
   "execution_count": null,
   "metadata": {},
   "outputs": [],
   "source": []
  },
  {
   "cell_type": "markdown",
   "metadata": {},
   "source": [
    "## Problem 11\n",
    "\n",
    "* 'git commit' and 'git push' your answers to your GitHub, then give me your GitHub username before you leave the class. I will clone your repositories and grade your answers.\n"
   ]
  }
 ],
 "metadata": {
  "kernelspec": {
   "display_name": "Bash",
   "language": "bash",
   "name": "bash"
  },
  "language_info": {
   "codemirror_mode": "shell",
   "file_extension": ".sh",
   "mimetype": "text/x-sh",
   "name": "bash"
  }
 },
 "nbformat": 4,
 "nbformat_minor": 2
}
